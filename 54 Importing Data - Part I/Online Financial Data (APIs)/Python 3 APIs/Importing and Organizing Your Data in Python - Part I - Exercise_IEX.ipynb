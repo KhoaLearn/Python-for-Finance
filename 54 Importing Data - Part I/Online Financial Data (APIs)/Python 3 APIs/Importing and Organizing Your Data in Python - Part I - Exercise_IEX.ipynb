{
 "cells": [
  {
   "cell_type": "markdown",
   "metadata": {},
   "source": [
    "## Importing and Organizing Your Data in Python - Part I"
   ]
  },
  {
   "cell_type": "markdown",
   "metadata": {},
   "source": [
    "*Suggested Answers follow (usually there are multiple ways to solve a problem in Python).*"
   ]
  },
  {
   "cell_type": "markdown",
   "metadata": {},
   "source": [
    "a. Create a series object of 10 randomly generated integer values."
   ]
  },
  {
   "cell_type": "code",
   "execution_count": 1,
   "metadata": {
    "collapsed": true
   },
   "outputs": [],
   "source": [
    "import numpy as np\n",
    "import pandas as pd"
   ]
  },
  {
   "cell_type": "code",
   "execution_count": 2,
   "metadata": {
    "collapsed": true
   },
   "outputs": [
    {
     "name": "stderr",
     "output_type": "stream",
     "text": [
      "/Users/khoale/opt/miniconda3/envs/myenv/lib/python3.7/site-packages/ipykernel_launcher.py:1: DeprecationWarning: This function is deprecated. Please call randint(1, 10 + 1) instead\n",
      "  \"\"\"Entry point for launching an IPython kernel.\n"
     ]
    }
   ],
   "source": [
    "serO=pd.Series(np.random.random_integers(10))"
   ]
  },
  {
   "cell_type": "code",
   "execution_count": 3,
   "metadata": {
    "collapsed": true
   },
   "outputs": [
    {
     "data": {
      "text/plain": [
       "0    4\n",
       "dtype: int64"
      ]
     },
     "execution_count": 3,
     "metadata": {},
     "output_type": "execute_result"
    }
   ],
   "source": [
    "serO"
   ]
  },
  {
   "cell_type": "markdown",
   "metadata": {},
   "source": [
    "b. Extract data from IEX for Ford from the 1st of January 2015. The ticker you need is ‘F’. "
   ]
  },
  {
   "cell_type": "code",
   "execution_count": 4,
   "metadata": {
    "collapsed": true
   },
   "outputs": [],
   "source": [
    "from pandas_datareader import data as web"
   ]
  },
  {
   "cell_type": "code",
   "execution_count": 7,
   "metadata": {
    "collapsed": true
   },
   "outputs": [
    {
     "data": {
      "text/html": [
       "<div>\n",
       "<style scoped>\n",
       "    .dataframe tbody tr th:only-of-type {\n",
       "        vertical-align: middle;\n",
       "    }\n",
       "\n",
       "    .dataframe tbody tr th {\n",
       "        vertical-align: top;\n",
       "    }\n",
       "\n",
       "    .dataframe thead th {\n",
       "        text-align: right;\n",
       "    }\n",
       "</style>\n",
       "<table border=\"1\" class=\"dataframe\">\n",
       "  <thead>\n",
       "    <tr style=\"text-align: right;\">\n",
       "      <th></th>\n",
       "      <th>High</th>\n",
       "      <th>Low</th>\n",
       "      <th>Open</th>\n",
       "      <th>Close</th>\n",
       "      <th>Volume</th>\n",
       "      <th>Adj Close</th>\n",
       "    </tr>\n",
       "    <tr>\n",
       "      <th>Date</th>\n",
       "      <th></th>\n",
       "      <th></th>\n",
       "      <th></th>\n",
       "      <th></th>\n",
       "      <th></th>\n",
       "      <th></th>\n",
       "    </tr>\n",
       "  </thead>\n",
       "  <tbody>\n",
       "    <tr>\n",
       "      <th>2014-12-31</th>\n",
       "      <td>45.136002</td>\n",
       "      <td>44.450001</td>\n",
       "      <td>44.618000</td>\n",
       "      <td>44.481998</td>\n",
       "      <td>11487500.0</td>\n",
       "      <td>44.481998</td>\n",
       "    </tr>\n",
       "    <tr>\n",
       "      <th>2015-01-02</th>\n",
       "      <td>44.650002</td>\n",
       "      <td>42.652000</td>\n",
       "      <td>44.574001</td>\n",
       "      <td>43.862000</td>\n",
       "      <td>23822000.0</td>\n",
       "      <td>43.862000</td>\n",
       "    </tr>\n",
       "    <tr>\n",
       "      <th>2015-01-05</th>\n",
       "      <td>43.299999</td>\n",
       "      <td>41.431999</td>\n",
       "      <td>42.910000</td>\n",
       "      <td>42.018002</td>\n",
       "      <td>26842500.0</td>\n",
       "      <td>42.018002</td>\n",
       "    </tr>\n",
       "    <tr>\n",
       "      <th>2015-01-06</th>\n",
       "      <td>42.840000</td>\n",
       "      <td>40.841999</td>\n",
       "      <td>42.012001</td>\n",
       "      <td>42.256001</td>\n",
       "      <td>31309500.0</td>\n",
       "      <td>42.256001</td>\n",
       "    </tr>\n",
       "    <tr>\n",
       "      <th>2015-01-07</th>\n",
       "      <td>42.956001</td>\n",
       "      <td>41.956001</td>\n",
       "      <td>42.669998</td>\n",
       "      <td>42.189999</td>\n",
       "      <td>14842000.0</td>\n",
       "      <td>42.189999</td>\n",
       "    </tr>\n",
       "    <tr>\n",
       "      <th>...</th>\n",
       "      <td>...</td>\n",
       "      <td>...</td>\n",
       "      <td>...</td>\n",
       "      <td>...</td>\n",
       "      <td>...</td>\n",
       "      <td>...</td>\n",
       "    </tr>\n",
       "    <tr>\n",
       "      <th>2021-10-15</th>\n",
       "      <td>843.210022</td>\n",
       "      <td>822.349976</td>\n",
       "      <td>823.739990</td>\n",
       "      <td>843.030029</td>\n",
       "      <td>18818000.0</td>\n",
       "      <td>843.030029</td>\n",
       "    </tr>\n",
       "    <tr>\n",
       "      <th>2021-10-18</th>\n",
       "      <td>875.260010</td>\n",
       "      <td>851.469971</td>\n",
       "      <td>851.789978</td>\n",
       "      <td>870.109985</td>\n",
       "      <td>24207200.0</td>\n",
       "      <td>870.109985</td>\n",
       "    </tr>\n",
       "    <tr>\n",
       "      <th>2021-10-19</th>\n",
       "      <td>877.950012</td>\n",
       "      <td>862.510010</td>\n",
       "      <td>877.530029</td>\n",
       "      <td>864.270020</td>\n",
       "      <td>17381100.0</td>\n",
       "      <td>864.270020</td>\n",
       "    </tr>\n",
       "    <tr>\n",
       "      <th>2021-10-20</th>\n",
       "      <td>869.489990</td>\n",
       "      <td>857.380005</td>\n",
       "      <td>865.349976</td>\n",
       "      <td>865.799988</td>\n",
       "      <td>14032100.0</td>\n",
       "      <td>865.799988</td>\n",
       "    </tr>\n",
       "    <tr>\n",
       "      <th>2021-10-21</th>\n",
       "      <td>900.000000</td>\n",
       "      <td>855.500000</td>\n",
       "      <td>856.000000</td>\n",
       "      <td>894.000000</td>\n",
       "      <td>31396500.0</td>\n",
       "      <td>894.000000</td>\n",
       "    </tr>\n",
       "  </tbody>\n",
       "</table>\n",
       "<p>1715 rows × 6 columns</p>\n",
       "</div>"
      ],
      "text/plain": [
       "                  High         Low        Open       Close      Volume  \\\n",
       "Date                                                                     \n",
       "2014-12-31   45.136002   44.450001   44.618000   44.481998  11487500.0   \n",
       "2015-01-02   44.650002   42.652000   44.574001   43.862000  23822000.0   \n",
       "2015-01-05   43.299999   41.431999   42.910000   42.018002  26842500.0   \n",
       "2015-01-06   42.840000   40.841999   42.012001   42.256001  31309500.0   \n",
       "2015-01-07   42.956001   41.956001   42.669998   42.189999  14842000.0   \n",
       "...                ...         ...         ...         ...         ...   \n",
       "2021-10-15  843.210022  822.349976  823.739990  843.030029  18818000.0   \n",
       "2021-10-18  875.260010  851.469971  851.789978  870.109985  24207200.0   \n",
       "2021-10-19  877.950012  862.510010  877.530029  864.270020  17381100.0   \n",
       "2021-10-20  869.489990  857.380005  865.349976  865.799988  14032100.0   \n",
       "2021-10-21  900.000000  855.500000  856.000000  894.000000  31396500.0   \n",
       "\n",
       "             Adj Close  \n",
       "Date                    \n",
       "2014-12-31   44.481998  \n",
       "2015-01-02   43.862000  \n",
       "2015-01-05   42.018002  \n",
       "2015-01-06   42.256001  \n",
       "2015-01-07   42.189999  \n",
       "...                ...  \n",
       "2021-10-15  843.030029  \n",
       "2021-10-18  870.109985  \n",
       "2021-10-19  864.270020  \n",
       "2021-10-20  865.799988  \n",
       "2021-10-21  894.000000  \n",
       "\n",
       "[1715 rows x 6 columns]"
      ]
     },
     "execution_count": 7,
     "metadata": {},
     "output_type": "execute_result"
    }
   ],
   "source": [
    "TSLA = web.DataReader('TSLA', data_source='yahoo', start='2015-1-1')\n",
    "TSLA"
   ]
  },
  {
   "cell_type": "code",
   "execution_count": null,
   "metadata": {
    "collapsed": true
   },
   "outputs": [],
   "source": []
  }
 ],
 "metadata": {
  "interpreter": {
   "hash": "5a6adaa35928a943756c5d43f3443e9bc2fa4f109ec9a3e9b8ee3fe83ad305c2"
  },
  "kernelspec": {
   "display_name": "Python 3.7.11 64-bit (conda)",
   "name": "python3"
  },
  "language_info": {
   "codemirror_mode": {
    "name": "ipython",
    "version": 3
   },
   "file_extension": ".py",
   "mimetype": "text/x-python",
   "name": "python",
   "nbconvert_exporter": "python",
   "pygments_lexer": "ipython3",
   "version": "3.7.11"
  }
 },
 "nbformat": 4,
 "nbformat_minor": 2
}
